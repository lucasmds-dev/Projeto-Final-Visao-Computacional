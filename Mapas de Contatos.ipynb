{
 "cells": [
  {
   "cell_type": "markdown",
   "id": "02fd42e5",
   "metadata": {},
   "source": [
    "#### 1. Importing libraries"
   ]
  },
  {
   "cell_type": "code",
   "execution_count": 1,
   "id": "445fb885",
   "metadata": {},
   "outputs": [],
   "source": [
    "import os\n",
    "import numpy as np\n",
    "import matplotlib.pyplot as plt"
   ]
  },
  {
   "cell_type": "markdown",
   "id": "84dcd717",
   "metadata": {},
   "source": [
    "#### 1.1 Function definition"
   ]
  },
  {
   "cell_type": "code",
   "execution_count": 2,
   "id": "031542af",
   "metadata": {},
   "outputs": [],
   "source": [
    "# Function to parse the PDB file and extract CA atom coordinates\n",
    "def parse_pdb(file_path):\n",
    "    atom_coords = []\n",
    "    with open(file_path, 'r') as file:\n",
    "        for line in file:\n",
    "            if line.startswith(\"ATOM\") and line[13:15].strip() == \"CA\":\n",
    "                x = float(line[30:38].strip())\n",
    "                y = float(line[38:46].strip())\n",
    "                z = float(line[46:54].strip())\n",
    "                atom_coords.append((x, y, z))\n",
    "    return np.array(atom_coords)"
   ]
  },
  {
   "cell_type": "code",
   "execution_count": 3,
   "id": "7d1d278d",
   "metadata": {},
   "outputs": [],
   "source": [
    "def generate_contact_map(atom_coords, distance_threshold):\n",
    "\n",
    "    num_residues = len(atom_coords)\n",
    "    contact_map = np.zeros((num_residues, num_residues), dtype=bool)\n",
    "    \n",
    "    for i in range(num_residues):\n",
    "        for j in range(i + 4, num_residues):\n",
    "            distance = np.linalg.norm(atom_coords[i] - atom_coords[j])\n",
    "            if distance < distance_threshold:\n",
    "                contact_map[i, j] = True\n",
    "                contact_map[j, i] = True\n",
    "    \n",
    "    return contact_map"
   ]
  },
  {
   "cell_type": "code",
   "execution_count": 4,
   "id": "0e493999",
   "metadata": {},
   "outputs": [],
   "source": [
    "# Function to save the contact map as a .png file\n",
    "def save_contact_map(contact_map, output_path):\n",
    "    plt.figure(figsize=(10, 10))\n",
    "    plt.imshow(contact_map, cmap='Greys', interpolation='none')\n",
    "    plt.title('Contact Map')\n",
    "    plt.xlabel('Residue Index')\n",
    "    plt.ylabel('Residue Index')\n",
    "    plt.savefig(output_path)\n",
    "    plt.close()"
   ]
  },
  {
   "cell_type": "code",
   "execution_count": 5,
   "id": "9d01b946",
   "metadata": {},
   "outputs": [],
   "source": [
    "# Function to process a single PDB file\n",
    "def process_single_pdb(input_file, output_dir, distance_threshold):\n",
    "    atom_coords = parse_pdb(input_file)\n",
    "    contact_map = generate_contact_map(atom_coords, distance_threshold)\n",
    "    \n",
    "    if 'alpha-helices' in input_file:\n",
    "        specific_output_dir = os.path.join(output_dir, 'alpha-helices')\n",
    "    elif 'beta-sheets' in input_file:\n",
    "        specific_output_dir = os.path.join(output_dir, 'beta-sheets')\n",
    "    else:\n",
    "        specific_output_dir = output_dir\n",
    "    \n",
    "    if not os.path.exists(specific_output_dir):\n",
    "        os.makedirs(specific_output_dir)\n",
    "    \n",
    "    base_name = os.path.basename(input_file).replace('_bundle', '')\n",
    "    output_path = os.path.join(specific_output_dir, f'{base_name[:-4]}.png')\n",
    "    \n",
    "    save_contact_map(contact_map, output_path)\n",
    "    return output_path"
   ]
  },
  {
   "cell_type": "code",
   "execution_count": 6,
   "id": "c8fe3fb6",
   "metadata": {},
   "outputs": [],
   "source": [
    "# Function to process all PDB files\n",
    "def process_pdb_files(input_dirs, output_dir, distance_threshold):\n",
    "    pdb_files = []\n",
    "    for input_dir in input_dirs:\n",
    "        for filename in os.listdir(input_dir):\n",
    "            if filename.endswith('.pdb'):\n",
    "                file_path = os.path.join(input_dir, filename)\n",
    "                pdb_files.append(file_path)\n",
    "    \n",
    "    for pdb_file in pdb_files:\n",
    "        process_single_pdb(pdb_file, output_dir, distance_threshold)"
   ]
  },
  {
   "cell_type": "markdown",
   "id": "a7f7e7af",
   "metadata": {},
   "source": [
    "#### 1.2 Definition of variables"
   ]
  },
  {
   "cell_type": "code",
   "execution_count": 7,
   "id": "a88d3ba9",
   "metadata": {},
   "outputs": [],
   "source": [
    "# Define input directories\n",
    "input_dirs = ['../data/alpha-helices', '../data/beta-sheets']\n",
    "\n",
    "# Define output directory\n",
    "output_dir = '../data/contact-maps'\n",
    "\n",
    "# Define the distance threshold in angstroms for contact map generation\n",
    "distance_threshold = 8.0"
   ]
  },
  {
   "cell_type": "code",
   "execution_count": 134,
   "id": "703c0f83",
   "metadata": {},
   "outputs": [],
   "source": [
    "# Process the PDB files sequentially\n",
    "process_pdb_files(input_dirs, output_dir, distance_threshold)"
   ]
  }
 ],
 "metadata": {
  "kernelspec": {
   "display_name": "Python 3 (ipykernel)",
   "language": "python",
   "name": "python3"
  },
  "language_info": {
   "codemirror_mode": {
    "name": "ipython",
    "version": 3
   },
   "file_extension": ".py",
   "mimetype": "text/x-python",
   "name": "python",
   "nbconvert_exporter": "python",
   "pygments_lexer": "ipython3",
   "version": "3.9.13"
  }
 },
 "nbformat": 4,
 "nbformat_minor": 5
}
